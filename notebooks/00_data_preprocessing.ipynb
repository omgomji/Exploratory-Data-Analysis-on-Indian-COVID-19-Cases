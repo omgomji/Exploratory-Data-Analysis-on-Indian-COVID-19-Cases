{
 "cells": [
  {
   "cell_type": "code",
   "execution_count": 1,
   "id": "a5115654",
   "metadata": {},
   "outputs": [],
   "source": [
    "import pandas as pd"
   ]
  },
  {
   "cell_type": "code",
   "execution_count": 2,
   "id": "81d3e4ee",
   "metadata": {},
   "outputs": [],
   "source": [
    "vacc_df = pd.read_csv(\"../data/raw/cowin_vaccine_data_statewise.csv\")\n",
    "pop_df = pd.read_csv(\"../data/raw/state_wise_population.csv\")\n",
    "cases_df = pd.read_csv(\"../data/raw/state_wise_daily.csv\")"
   ]
  },
  {
   "cell_type": "code",
   "execution_count": 3,
   "id": "29eeece8",
   "metadata": {},
   "outputs": [],
   "source": [
    "pop_df.columns = pop_df.columns.str.strip()"
   ]
  },
  {
   "cell_type": "code",
   "execution_count": 4,
   "id": "f985456f",
   "metadata": {},
   "outputs": [],
   "source": [
    "for col in [\"Total 2020\", \"Male 2020\", \"Female 2020\", \"Total 2021\", \"Male 2021\", \"Female 2021\"]:\n",
    "    pop_df[col] = (\n",
    "        pop_df[col]\n",
    "        .astype(str)\n",
    "        .str.replace(\",\", \"\", regex=True)\n",
    "        .astype(\"Int64\")\n",
    "    )\n",
    "\n",
    "pop_df = pop_df[[\"State\", \"Total 2021\"]]\n",
    "\n",
    "alias = {\"UK\": \"UT\", \"OD\": \"OR\", \"DD\": \"DN\"}\n"
   ]
  },
  {
   "cell_type": "code",
   "execution_count": 5,
   "id": "a8ac79d9",
   "metadata": {},
   "outputs": [],
   "source": [
    "pop_df = pop_df[[\"State\", \"Total 2021\"]]"
   ]
  },
  {
   "cell_type": "code",
   "execution_count": 6,
   "id": "0ea32e09",
   "metadata": {},
   "outputs": [],
   "source": [
    "state_mapping = {\n",
    "    \"Andaman and Nicobar Islands\": \"AN\", \"Andhra Pradesh\": \"AP\", \"Arunachal Pradesh\": \"AR\",\n",
    "    \"Assam\": \"AS\", \"Bihar\": \"BR\", \"Chandigarh\": \"CH\", \"Chhattisgarh\": \"CG\",\n",
    "    \"Dadra and Nagar Haveli and Daman and Diu\": \"DD\", \"Delhi\": \"DL\", \"Goa\": \"GA\",\n",
    "    \"Gujarat\": \"GJ\", \"Haryana\": \"HR\", \"Himachal Pradesh\": \"HP\", \"Jammu and Kashmir\": \"JK\",\n",
    "    \"Jharkhand\": \"JH\", \"Karnataka\": \"KA\", \"Kerala\": \"KL\", \"Ladakh\": \"LA\", \"Lakshadweep\": \"LD\",\n",
    "    \"Madhya Pradesh\": \"MP\", \"Maharashtra\": \"MH\", \"Manipur\": \"MN\", \"Meghalaya\": \"ML\",\n",
    "    \"Mizoram\": \"MZ\", \"Nagaland\": \"NL\", \"Odisha\": \"OD\", \"Puducherry\": \"PY\",\n",
    "    \"Punjab\": \"PB\", \"Rajasthan\": \"RJ\", \"Sikkim\": \"SK\", \"Tamil Nadu\": \"TN\",\n",
    "    \"Telangana\": \"TG\", \"Tripura\": \"TR\", \"Uttar Pradesh\": \"UP\", \"Uttarakhand\": \"UK\",\n",
    "    \"West Bengal\": \"WB\"\n",
    "}"
   ]
  },
  {
   "cell_type": "code",
   "execution_count": 7,
   "id": "8591dfd9",
   "metadata": {},
   "outputs": [],
   "source": [
    "pop_df[\"State\"] = pop_df[\"State\"].map(lambda x: state_mapping.get(x, x))\n",
    "vacc_df[\"State\"] = vacc_df[\"State\"].map(lambda x: state_mapping.get(x, x))\n",
    "\n",
    "pop_df[\"State\"] = pop_df[\"State\"].replace(alias)\n",
    "vacc_df[\"State\"] = vacc_df[\"State\"].replace(alias)\n"
   ]
  },
  {
   "cell_type": "code",
   "execution_count": 8,
   "id": "6a1e6a3c",
   "metadata": {},
   "outputs": [],
   "source": [
    "vacc_df = vacc_df[[\"Updated On\", \"State\", \"Total Doses Administered\"]]\n",
    "\n",
    "non_state = {\"India\", \"State Unassigned\", \"Other\", \"Unassigned\"}\n",
    "vacc_df = vacc_df[~vacc_df[\"State\"].isin(non_state)]\n",
    "\n",
    "vacc_df[\"Updated On\"] = pd.to_datetime(vacc_df[\"Updated On\"], dayfirst=True, errors=\"coerce\")\n",
    "vacc_latest = (\n",
    "    vacc_df.sort_values([\"State\", \"Updated On\"])\\\n",
    "            .drop_duplicates(subset=[\"State\"], keep=\"last\")\n",
    ")\n",
    "\n",
    "vacc_latest = vacc_latest[[\"State\", \"Total Doses Administered\"]]\n"
   ]
  },
  {
   "cell_type": "code",
   "execution_count": 9,
   "id": "65bd071d",
   "metadata": {},
   "outputs": [],
   "source": [
    "vacc_merged = pd.merge(vacc_latest, pop_df, on=\"State\", how=\"left\")\n",
    "vacc_merged = vacc_merged.dropna(subset=[\"Total 2021\"])\n",
    "vacc_merged[\"vaccination_pct\"] = (\n",
    "    vacc_merged[\"Total Doses Administered\"] / vacc_merged[\"Total 2021\"] * 100\n",
    ")\n"
   ]
  },
  {
   "cell_type": "code",
   "execution_count": 10,
   "id": "9d9c3721",
   "metadata": {},
   "outputs": [],
   "source": [
    "cases_df.iloc[:, 3:] = cases_df.iloc[:, 3:].apply(pd.to_numeric, errors=\"coerce\")"
   ]
  },
  {
   "cell_type": "code",
   "execution_count": 11,
   "id": "c66c715c",
   "metadata": {},
   "outputs": [],
   "source": [
    "value_cols = cases_df.columns[3:]\n",
    "cases_pivot = (\n",
    "    cases_df.pivot_table(\n",
    "        index=\"Date_YMD\",\n",
    "        columns=\"Status\",\n",
    "        values=value_cols,\n",
    "        aggfunc=\"sum\",\n",
    "    )\n",
    "    .reset_index()\n",
    ")\n"
   ]
  },
  {
   "cell_type": "code",
   "execution_count": 12,
   "id": "97537ab6",
   "metadata": {},
   "outputs": [],
   "source": [
    "cases_pivot.columns = [\n",
    "    \"_\".join(col).strip(\"_\") if isinstance(col, tuple) else col\n",
    "    for col in cases_pivot.columns.values\n",
    "]"
   ]
  },
  {
   "cell_type": "code",
   "execution_count": 13,
   "id": "b3e000b5",
   "metadata": {},
   "outputs": [],
   "source": [
    "vacc_merged.to_csv(\"../data/processed/cleaned_vaccination_data.csv\", index=False)\n",
    "cases_pivot.to_csv(\"../data/processed/cleaned_case_data.csv\", index=False)"
   ]
  },
  {
   "cell_type": "code",
   "execution_count": 14,
   "id": "c2b2875d",
   "metadata": {},
   "outputs": [
    {
     "name": "stdout",
     "output_type": "stream",
     "text": [
      "\n",
      "=== Vaccination Data ===\n",
      "  State  Total Doses Administered  Total 2021  vaccination_pct\n",
      "0    AN                    991264      401000       247.198005\n",
      "1    AP                 110957429    52849000       209.951804\n",
      "2    AR                   1924584     1537000       125.216916\n",
      "3    AS                  50335778    35155000       143.182415\n",
      "4    BR                 157292508   123695000       127.161573\n",
      "\n",
      "=== Case Data ===\n",
      "     Date_YMD  AN_Confirmed  AN_Deceased  AN_Recovered  AP_Confirmed  \\\n",
      "0  01/01/2021             1            0             4           326   \n",
      "1  01/01/2022             5            0             2           176   \n",
      "2  01/01/2023             0            0             0             0   \n",
      "3  01/02/2021             0            0             4            64   \n",
      "4  01/02/2022            32            0            62          6213   \n",
      "\n",
      "   AP_Deceased  AP_Recovered  AR_Confirmed  AR_Deceased  AR_Recovered  ...  \\\n",
      "0            0           350             0            0             2  ...   \n",
      "1            0           103             0            0             3  ...   \n",
      "2            0             1             0            0             0  ...   \n",
      "3            1            99             0            0             3  ...   \n",
      "4            5         10795           246            1           583  ...   \n",
      "\n",
      "   TT_Recovered  UP_Confirmed  UP_Deceased  UP_Recovered  UT_Confirmed  \\\n",
      "0         23838          1786           27          2082           361   \n",
      "1          9249           380            0            31           118   \n",
      "2           207             2            0             3             3   \n",
      "3         13443           171            4           389            51   \n",
      "4        281109          4651           26         12263          1840   \n",
      "\n",
      "   UT_Deceased  UT_Recovered  WB_Confirmed  WB_Deceased  WB_Recovered  \n",
      "0            6           492          1153           26          1496  \n",
      "1            1            52          4512            9          1913  \n",
      "2            1             0             2            0             5  \n",
      "3            4           139           179            6           306  \n",
      "4           18          4383          2014           33          5548  \n",
      "\n",
      "[5 rows x 112 columns]\n"
     ]
    }
   ],
   "source": [
    "print(\"\\n=== Vaccination Data ===\")\n",
    "print(vacc_merged.head())\n",
    "\n",
    "print(\"\\n=== Case Data ===\")\n",
    "print(cases_pivot.head())"
   ]
  },
  {
   "cell_type": "code",
   "execution_count": 15,
   "id": "3bca3686",
   "metadata": {},
   "outputs": [
    {
     "name": "stdout",
     "output_type": "stream",
     "text": [
      "Updated On                  0\n",
      "State                       0\n",
      "Total Doses Administered    0\n",
      "dtype: int64\n",
      "0\n"
     ]
    }
   ],
   "source": [
    "print(vacc_df.isna().sum())\n",
    "print(cases_df.isna().sum().sum()) "
   ]
  },
  {
   "cell_type": "code",
   "execution_count": 16,
   "id": "044e42d4",
   "metadata": {},
   "outputs": [],
   "source": [
    "vacc_df.to_csv(\"../data/processed/cleaned_vaccinations.csv\", index=False)\n",
    "cases_df.to_csv(\"../data/processed/cleaned_cases.csv\", index=False)"
   ]
  }
 ],
 "metadata": {
  "kernelspec": {
   "display_name": "research",
   "language": "python",
   "name": "python3"
  },
  "language_info": {
   "codemirror_mode": {
    "name": "ipython",
    "version": 3
   },
   "file_extension": ".py",
   "mimetype": "text/x-python",
   "name": "python",
   "nbconvert_exporter": "python",
   "pygments_lexer": "ipython3",
   "version": "3.13.5"
  }
 },
 "nbformat": 4,
 "nbformat_minor": 5
}
